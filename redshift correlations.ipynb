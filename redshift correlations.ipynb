{
 "cells": [
  {
   "cell_type": "code",
   "execution_count": 1,
   "metadata": {},
   "outputs": [],
   "source": [
    "import pickle\n"
   ]
  },
  {
   "cell_type": "code",
   "execution_count": 3,
   "metadata": {},
   "outputs": [],
   "source": [
    "import SDSSWrapper\n",
    "from cataloging_classes import *"
   ]
  },
  {
   "cell_type": "code",
   "execution_count": 8,
   "metadata": {},
   "outputs": [],
   "source": [
    "path = '/Users/hughsurdeau/Desktop/Imperial/Year 4/Project/code/sne1a_direct_detected.p'"
   ]
  },
  {
   "cell_type": "code",
   "execution_count": 11,
   "metadata": {},
   "outputs": [],
   "source": [
    "sne1a = pickle.load(open(path, 'rb'))"
   ]
  },
  {
   "cell_type": "code",
   "execution_count": 12,
   "metadata": {},
   "outputs": [
    {
     "data": {
      "text/plain": [
       "{'cid': [739,\n",
       "  1166,\n",
       "  4019,\n",
       "  5549,\n",
       "  5659,\n",
       "  5689,\n",
       "  5966,\n",
       "  6491,\n",
       "  6530,\n",
       "  6709,\n",
       "  7644,\n",
       "  7841,\n",
       "  8114,\n",
       "  8351,\n",
       "  12310,\n",
       "  13467,\n",
       "  13689,\n",
       "  13894,\n",
       "  13908,\n",
       "  13953,\n",
       "  14250,\n",
       "  14330,\n",
       "  15136,\n",
       "  15222,\n",
       "  15568,\n",
       "  15690,\n",
       "  15755,\n",
       "  15784,\n",
       "  15950,\n",
       "  15988,\n",
       "  17263,\n",
       "  17934,\n",
       "  18375,\n",
       "  18612,\n",
       "  18890,\n",
       "  18903,\n",
       "  19501,\n",
       "  20314,\n",
       "  20663,\n",
       "  20687,\n",
       "  21081,\n",
       "  21872],\n",
       " 'redshift': [0.10763800000000001,\n",
       "  0.382077,\n",
       "  0.181404,\n",
       "  0.121242,\n",
       "  0.49090100000000003,\n",
       "  0.171207,\n",
       "  0.309632,\n",
       "  0.11021500000000001,\n",
       "  0.194825,\n",
       "  0.280494,\n",
       "  0.310062,\n",
       "  0.42863500000000004,\n",
       "  0.371314,\n",
       "  0.381125,\n",
       "  -9.0,\n",
       "  0.068646,\n",
       "  0.251768,\n",
       "  0.121,\n",
       "  0.239774,\n",
       "  0.262438,\n",
       "  0.36718,\n",
       "  0.252791,\n",
       "  0.14874300000000001,\n",
       "  0.19943,\n",
       "  0.20661,\n",
       "  0.301222,\n",
       "  0.281113,\n",
       "  0.1769,\n",
       "  0.220428,\n",
       "  0.361309,\n",
       "  0.05976,\n",
       "  -9.0,\n",
       "  0.110509,\n",
       "  0.11489200000000001,\n",
       "  0.066492,\n",
       "  0.15627,\n",
       "  0.14365799999999998,\n",
       "  0.20998499999999998,\n",
       "  0.29956900000000003,\n",
       "  0.19153599999999998,\n",
       "  -9.0,\n",
       "  0.228469],\n",
       " 'galaxy_id': [1237678833757323989,\n",
       "  1237649919500222789,\n",
       "  1237679455999361667,\n",
       "  1237678598628770170,\n",
       "  1237663783120405245,\n",
       "  1237678859007558177,\n",
       "  1237669702661570897,\n",
       "  1237669703198638483,\n",
       "  1237666339724853297,\n",
       "  1237672837448269891,\n",
       "  1237678860079661798,\n",
       "  1237663783128137895,\n",
       "  1237678620098757249,\n",
       "  1237679502176420544,\n",
       "  1237672764981837991,\n",
       "  1237678598088229125,\n",
       "  1237678858473308306,\n",
       "  1237657190369067289,\n",
       "  1237678622234312884,\n",
       "  1237679320167350612,\n",
       "  1237652948531216442,\n",
       "  1237657189834621269,\n",
       "  1237653440300777577,\n",
       "  1237678907320632235,\n",
       "  1237656243318227711,\n",
       "  1237678918596362625,\n",
       "  1237678620101509298,\n",
       "  1237653442450620609,\n",
       "  1237656495116256159,\n",
       "  1237663784200111056,\n",
       "  1237679322847838646,\n",
       "  1237679434523607512,\n",
       "  1237657190910263944,\n",
       "  1237678832145727930,\n",
       "  1237652899144466508,\n",
       "  1237679323388313966,\n",
       "  1237680264539799806,\n",
       "  1237679319628055255,\n",
       "  1237666216216428729,\n",
       "  1237679168766345878,\n",
       "  1237680120638013887,\n",
       "  1237652949065793696],\n",
       " 'galaxy_z': [0.5622723000000001,\n",
       "  0.5382170999999999,\n",
       "  0.5336729,\n",
       "  0.48333809999999994,\n",
       "  0.08389366,\n",
       "  0.49995969999999995,\n",
       "  0.40022340000000006,\n",
       "  0.5825319999999999,\n",
       "  0.08179339,\n",
       "  0.4571173,\n",
       "  0.5435566999999999,\n",
       "  0.411757,\n",
       "  0.53378,\n",
       "  0.5395996,\n",
       "  0.5541103000000001,\n",
       "  0.4000724,\n",
       "  0.1731404,\n",
       "  0.10700730000000001,\n",
       "  0.189431,\n",
       "  0.4908398,\n",
       "  0.09161942,\n",
       "  0.21327620000000003,\n",
       "  0.08114477,\n",
       "  0.550912,\n",
       "  0.4531017,\n",
       "  0.40350640000000004,\n",
       "  0.2655132,\n",
       "  0.08419397,\n",
       "  0.5086874,\n",
       "  0.5828778,\n",
       "  0.5705815,\n",
       "  0.4830258,\n",
       "  0.5424259,\n",
       "  0.4363396,\n",
       "  0.04750863,\n",
       "  0.4730446,\n",
       "  0.5046702000000001,\n",
       "  0.6820472,\n",
       "  0.34294179999999996,\n",
       "  0.4780185,\n",
       "  0.44617460000000003,\n",
       "  0.01764999],\n",
       " 'radial_sep': [0.0003199693349541151,\n",
       "  0.00035418587469678253,\n",
       "  0.0005476885869209845,\n",
       "  0.00018065639951120256,\n",
       "  0.0010229077454219726,\n",
       "  0.0007091512108279591,\n",
       "  0.0010751676853639272,\n",
       "  0.001182559577666019,\n",
       "  0.00033716446722820603,\n",
       "  0.0007989292651865414,\n",
       "  0.0005953856692368178,\n",
       "  0.0003630730635773025,\n",
       "  0.0008106446216756802,\n",
       "  0.0016941421738168633,\n",
       "  0.00030447782452440886,\n",
       "  0.0005440851149740035,\n",
       "  0.0011648866106787376,\n",
       "  0.00036849703821306625,\n",
       "  0.0018467788312656439,\n",
       "  0.00013198990420608216,\n",
       "  0.000817308258420559,\n",
       "  0.0005616806491720069,\n",
       "  0.0010344273586529204,\n",
       "  0.00046219218865369645,\n",
       "  0.0011405916677530194,\n",
       "  0.00037884445978729963,\n",
       "  0.0005643846841615383,\n",
       "  0.00038223543042289636,\n",
       "  0.00043060712895094753,\n",
       "  0.0001642768044963816,\n",
       "  0.001001729884399176,\n",
       "  0.000395680325723636,\n",
       "  0.00044207685218589007,\n",
       "  0.0004464214386938764,\n",
       "  0.0069798689849592905,\n",
       "  0.0010186702649199618,\n",
       "  0.0004171892466563687,\n",
       "  0.0013096265118186692,\n",
       "  0.00062120381550985,\n",
       "  0.00013805708879191712,\n",
       "  0.000693042402967779,\n",
       "  0.0003374934185774002]}"
      ]
     },
     "execution_count": 12,
     "metadata": {},
     "output_type": "execute_result"
    }
   ],
   "source": [
    "sne1a"
   ]
  },
  {
   "cell_type": "code",
   "execution_count": 13,
   "metadata": {},
   "outputs": [],
   "source": [
    "path = '/Users/hughsurdeau/Desktop/Imperial/Year 4/Project/code/sne2_direct_detected.p'\n",
    "sne2 = pickle.load(open(path, 'rb'))"
   ]
  },
  {
   "cell_type": "code",
   "execution_count": 14,
   "metadata": {},
   "outputs": [
    {
     "data": {
      "text/plain": [
       "{'cid': [897,\n",
       "  1173,\n",
       "  3888,\n",
       "  6712,\n",
       "  12892,\n",
       "  13040,\n",
       "  14848,\n",
       "  15319,\n",
       "  17200,\n",
       "  17292,\n",
       "  17477,\n",
       "  17759,\n",
       "  18297,\n",
       "  18653,\n",
       "  18734,\n",
       "  19640,\n",
       "  21386,\n",
       "  21596],\n",
       " 'redshift': [-9.0,\n",
       "  -9.0,\n",
       "  0.118243,\n",
       "  0.09183999999999999,\n",
       "  0.133448,\n",
       "  0.0774,\n",
       "  -9.0,\n",
       "  0.330121,\n",
       "  0.085107,\n",
       "  -9.0,\n",
       "  0.08448,\n",
       "  -9.0,\n",
       "  0.074376,\n",
       "  0.127986,\n",
       "  0.056685,\n",
       "  0.10967,\n",
       "  -9.0,\n",
       "  0.063318],\n",
       " 'galaxy_id': [1237679436135399811,\n",
       "  1237653651303367128,\n",
       "  1237680122783531135,\n",
       "  1237669679575007533,\n",
       "  1237678433794326952,\n",
       "  1237669682258248185,\n",
       "  1237663784739668295,\n",
       "  1237656241170613052,\n",
       "  1237672836910416519,\n",
       "  1237678906242564973,\n",
       "  1237652942638088309,\n",
       "  1237678596476567910,\n",
       "  1237652948532789340,\n",
       "  1237657191976993201,\n",
       "  1237672842820321662,\n",
       "  1237669767621902409,\n",
       "  1237678597553521348,\n",
       "  1237663782589956113],\n",
       " 'galaxy_z': [0.46452619999999994,\n",
       "  0.5293028000000001,\n",
       "  0.2383968,\n",
       "  0.373224,\n",
       "  0.5878187,\n",
       "  0.6398170999999999,\n",
       "  0.10969560000000002,\n",
       "  0.426199,\n",
       "  0.5073081,\n",
       "  0.638934,\n",
       "  0.119525,\n",
       "  0.532576,\n",
       "  0.13589179999999998,\n",
       "  0.45723559999999996,\n",
       "  0.5364308000000001,\n",
       "  0.15211860000000002,\n",
       "  0.34684240000000005,\n",
       "  0.03329302],\n",
       " 'radial_sep': [0.0008127805366130475,\n",
       "  0.0007061838685738939,\n",
       "  0.0005937782264627336,\n",
       "  0.00032198955936929346,\n",
       "  0.0008380945995723506,\n",
       "  0.0012782066165590363,\n",
       "  0.00016357590946548467,\n",
       "  0.0006638450096697003,\n",
       "  0.001028502850511769,\n",
       "  0.0006876908371537748,\n",
       "  0.000545500546239643,\n",
       "  0.000683605080304049,\n",
       "  0.0011327754225324972,\n",
       "  0.0002275384981369885,\n",
       "  0.001128520520309948,\n",
       "  0.0002959473056636108,\n",
       "  0.0009868617721687579,\n",
       "  0.0003140039950932141]}"
      ]
     },
     "execution_count": 14,
     "metadata": {},
     "output_type": "execute_result"
    }
   ],
   "source": [
    "sne2"
   ]
  },
  {
   "cell_type": "code",
   "execution_count": 15,
   "metadata": {},
   "outputs": [],
   "source": [
    "import astropy.units as u"
   ]
  },
  {
   "cell_type": "code",
   "execution_count": 16,
   "metadata": {},
   "outputs": [
    {
     "ename": "AttributeError",
     "evalue": "module 'astropy.units' has no attribute 'distance'",
     "output_type": "error",
     "traceback": [
      "\u001b[0;31m---------------------------------------------------------------------------\u001b[0m",
      "\u001b[0;31mAttributeError\u001b[0m                            Traceback (most recent call last)",
      "\u001b[0;32m<ipython-input-16-0b5d6d2944a8>\u001b[0m in \u001b[0;36m<module>\u001b[0;34m\u001b[0m\n\u001b[0;32m----> 1\u001b[0;31m \u001b[0mu\u001b[0m\u001b[0;34m.\u001b[0m\u001b[0mdistance\u001b[0m\u001b[0;34m(\u001b[0m\u001b[0mz\u001b[0m\u001b[0;34m=\u001b[0m\u001b[0;36m1.5\u001b[0m\u001b[0;34m)\u001b[0m\u001b[0;34m\u001b[0m\u001b[0m\n\u001b[0m",
      "\u001b[0;31mAttributeError\u001b[0m: module 'astropy.units' has no attribute 'distance'"
     ]
    }
   ],
   "source": [
    "u.distance(z=1.5)"
   ]
  },
  {
   "cell_type": "code",
   "execution_count": 17,
   "metadata": {},
   "outputs": [],
   "source": [
    "import astropy.coordinates as c"
   ]
  },
  {
   "cell_type": "code",
   "execution_count": 18,
   "metadata": {},
   "outputs": [
    {
     "ename": "AttributeError",
     "evalue": "module 'astropy.coordinates' has no attribute 'distance'",
     "output_type": "error",
     "traceback": [
      "\u001b[0;31m---------------------------------------------------------------------------\u001b[0m",
      "\u001b[0;31mAttributeError\u001b[0m                            Traceback (most recent call last)",
      "\u001b[0;32m<ipython-input-18-e252802fe1ac>\u001b[0m in \u001b[0;36m<module>\u001b[0;34m\u001b[0m\n\u001b[0;32m----> 1\u001b[0;31m \u001b[0mc\u001b[0m\u001b[0;34m.\u001b[0m\u001b[0mdistance\u001b[0m\u001b[0;34m(\u001b[0m\u001b[0mz\u001b[0m\u001b[0;34m=\u001b[0m\u001b[0;36m1.5\u001b[0m\u001b[0;34m)\u001b[0m\u001b[0;34m\u001b[0m\u001b[0m\n\u001b[0m",
      "\u001b[0;31mAttributeError\u001b[0m: module 'astropy.coordinates' has no attribute 'distance'"
     ]
    }
   ],
   "source": [
    "c.distance(z=1.5)"
   ]
  },
  {
   "cell_type": "code",
   "execution_count": 19,
   "metadata": {},
   "outputs": [],
   "source": [
    "from astropy import units as u\n",
    "from astropy import cosmology\n",
    "from astropy.cosmology import WMAP5, WMAP7"
   ]
  },
  {
   "cell_type": "code",
   "execution_count": 20,
   "metadata": {},
   "outputs": [
    {
     "ename": "NameError",
     "evalue": "name 'Distance' is not defined",
     "output_type": "error",
     "traceback": [
      "\u001b[0;31m---------------------------------------------------------------------------\u001b[0m",
      "\u001b[0;31mNameError\u001b[0m                                 Traceback (most recent call last)",
      "\u001b[0;32m<ipython-input-20-a7732cf187bb>\u001b[0m in \u001b[0;36m<module>\u001b[0;34m\u001b[0m\n\u001b[0;32m----> 1\u001b[0;31m \u001b[0md1\u001b[0m \u001b[0;34m=\u001b[0m \u001b[0mDistance\u001b[0m\u001b[0;34m(\u001b[0m\u001b[0mz\u001b[0m\u001b[0;34m=\u001b[0m\u001b[0;36m1.5\u001b[0m\u001b[0;34m)\u001b[0m\u001b[0;34m\u001b[0m\u001b[0m\n\u001b[0m",
      "\u001b[0;31mNameError\u001b[0m: name 'Distance' is not defined"
     ]
    }
   ],
   "source": [
    "d1 = Distance(z=1.5)"
   ]
  },
  {
   "cell_type": "code",
   "execution_count": 21,
   "metadata": {},
   "outputs": [],
   "source": [
    "d1 = c.Distance(z=1.5)"
   ]
  },
  {
   "cell_type": "code",
   "execution_count": 22,
   "metadata": {},
   "outputs": [
    {
     "data": {
      "text/latex": [
       "$11129.369 \\; \\mathrm{Mpc}$"
      ],
      "text/plain": [
       "<Distance 11129.36885267 Mpc>"
      ]
     },
     "execution_count": 22,
     "metadata": {},
     "output_type": "execute_result"
    }
   ],
   "source": [
    "d1\n"
   ]
  },
  {
   "cell_type": "code",
   "execution_count": 23,
   "metadata": {},
   "outputs": [
    {
     "data": {
      "text/plain": [
       "astropy.coordinates.distances.Distance"
      ]
     },
     "execution_count": 23,
     "metadata": {},
     "output_type": "execute_result"
    }
   ],
   "source": [
    "type(d1)"
   ]
  },
  {
   "cell_type": "code",
   "execution_count": 24,
   "metadata": {},
   "outputs": [
    {
     "data": {
      "text/latex": [
       "$11129.369 \\; \\mathrm{Mpc}$"
      ],
      "text/plain": [
       "<Distance 11129.36885267 Mpc>"
      ]
     },
     "execution_count": 24,
     "metadata": {},
     "output_type": "execute_result"
    }
   ],
   "source": [
    "d1"
   ]
  },
  {
   "cell_type": "code",
   "execution_count": 28,
   "metadata": {},
   "outputs": [
    {
     "data": {
      "text/latex": [
       "$45.232353 \\; \\mathrm{mag}$"
      ],
      "text/plain": [
       "<Quantity 45.23235268 mag>"
      ]
     },
     "execution_count": 28,
     "metadata": {},
     "output_type": "execute_result"
    }
   ],
   "source": [
    "d1.distmod"
   ]
  },
  {
   "cell_type": "code",
   "execution_count": 27,
   "metadata": {},
   "outputs": [
    {
     "ename": "AttributeError",
     "evalue": "Distance instance has no attribute 'val'",
     "output_type": "error",
     "traceback": [
      "\u001b[0;31m---------------------------------------------------------------------------\u001b[0m",
      "\u001b[0;31mAttributeError\u001b[0m                            Traceback (most recent call last)",
      "\u001b[0;32m<ipython-input-27-c2aee4ce8441>\u001b[0m in \u001b[0;36m<module>\u001b[0;34m\u001b[0m\n\u001b[0;32m----> 1\u001b[0;31m \u001b[0md1\u001b[0m\u001b[0;34m.\u001b[0m\u001b[0mval\u001b[0m\u001b[0;34m\u001b[0m\u001b[0m\n\u001b[0m",
      "\u001b[0;32m/usr/local/lib/python3.7/site-packages/astropy/units/quantity.py\u001b[0m in \u001b[0;36m__getattr__\u001b[0;34m(self, attr)\u001b[0m\n\u001b[1;32m   1005\u001b[0m             raise AttributeError(\n\u001b[1;32m   1006\u001b[0m                 \"{0} instance has no attribute '{1}'\".format(\n\u001b[0;32m-> 1007\u001b[0;31m                     self.__class__.__name__, attr))\n\u001b[0m\u001b[1;32m   1008\u001b[0m         \u001b[0;32melse\u001b[0m\u001b[0;34m:\u001b[0m\u001b[0;34m\u001b[0m\u001b[0m\n\u001b[1;32m   1009\u001b[0m             \u001b[0;32mreturn\u001b[0m \u001b[0mvalue\u001b[0m\u001b[0;34m\u001b[0m\u001b[0m\n",
      "\u001b[0;31mAttributeError\u001b[0m: Distance instance has no attribute 'val'"
     ]
    }
   ],
   "source": [
    "d1.val"
   ]
  },
  {
   "cell_type": "code",
   "execution_count": 30,
   "metadata": {},
   "outputs": [
    {
     "data": {
      "text/plain": [
       "11129.368852665559"
      ]
     },
     "execution_count": 30,
     "metadata": {},
     "output_type": "execute_result"
    }
   ],
   "source": [
    "d1.value"
   ]
  },
  {
   "cell_type": "code",
   "execution_count": 31,
   "metadata": {},
   "outputs": [
    {
     "data": {
      "text/latex": [
       "$11129.369 \\; \\mathrm{Mpc}$"
      ],
      "text/plain": [
       "<Distance 11129.36885267 Mpc>"
      ]
     },
     "execution_count": 31,
     "metadata": {},
     "output_type": "execute_result"
    }
   ],
   "source": [
    "d1"
   ]
  },
  {
   "cell_type": "code",
   "execution_count": 32,
   "metadata": {},
   "outputs": [
    {
     "ename": "NameError",
     "evalue": "name 'cataloging_classes' is not defined",
     "output_type": "error",
     "traceback": [
      "\u001b[0;31m---------------------------------------------------------------------------\u001b[0m",
      "\u001b[0;31mNameError\u001b[0m                                 Traceback (most recent call last)",
      "\u001b[0;32m<ipython-input-32-f09199a6557a>\u001b[0m in \u001b[0;36m<module>\u001b[0;34m\u001b[0m\n\u001b[0;32m----> 1\u001b[0;31m \u001b[0mcataloging_classes\u001b[0m\u001b[0;34m.\u001b[0m\u001b[0mreload\u001b[0m\u001b[0;34m(\u001b[0m\u001b[0;34m)\u001b[0m\u001b[0;34m\u001b[0m\u001b[0m\n\u001b[0m",
      "\u001b[0;31mNameError\u001b[0m: name 'cataloging_classes' is not defined"
     ]
    }
   ],
   "source": [
    "cataloging_classes.reload()"
   ]
  },
  {
   "cell_type": "code",
   "execution_count": null,
   "metadata": {},
   "outputs": [],
   "source": [
    "i"
   ]
  }
 ],
 "metadata": {
  "kernelspec": {
   "display_name": "Python 3",
   "language": "python",
   "name": "python3"
  },
  "language_info": {
   "codemirror_mode": {
    "name": "ipython",
    "version": 3
   },
   "file_extension": ".py",
   "mimetype": "text/x-python",
   "name": "python",
   "nbconvert_exporter": "python",
   "pygments_lexer": "ipython3",
   "version": "3.7.0"
  }
 },
 "nbformat": 4,
 "nbformat_minor": 2
}
